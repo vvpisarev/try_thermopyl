{
 "cells": [
  {
   "cell_type": "code",
   "execution_count": 1,
   "id": "0f87195c-e87c-4ec2-806b-e3b90f6ea48b",
   "metadata": {},
   "outputs": [
    {
     "data": {
      "text/plain": [
       "'\\nПолучить мольные доли компонентов и давление. CO2 и n-Decan. CO2 обычно идет вторым.\\nПостроить зависимость мольного соотношения от давления.\\n'"
      ]
     },
     "execution_count": 1,
     "metadata": {},
     "output_type": "execute_result"
    }
   ],
   "source": [
    "import thermopyl as th\n",
    "from thermopyl import thermoml_lib\n",
    "import cirpy\n",
    "import numpy as np\n",
    "import pandas as pd\n",
    "\n",
    "import functools\n",
    "from functools import reduce\n",
    "from os.path import expanduser\n",
    "from joblib import Memory\n",
    "\n",
    "\"\"\"\n",
    "Получить мольные доли компонентов и давление. CO2 и n-Decan. CO2 обычно идет вторым.\n",
    "Построить зависимость мольного соотношения от давления.\n",
    "\"\"\""
   ]
  },
  {
   "cell_type": "code",
   "execution_count": 3,
   "id": "b77a49cd-f1f7-4555-96b0-4dde8bfeca58",
   "metadata": {},
   "outputs": [
    {
     "name": "stdout",
     "output_type": "stream",
     "text": [
      "Dataframe size: 382763\n",
      "Number of \"Mole fraction\" entries: 348552\n",
      "Number of \"Mole fraction_std\" entries: 0\n",
      "Number of \"Solvent: Mole fraction\" entries: 37498\n",
      "Number of \"Mole fraction Variable metadata\" entries: 188076\n",
      "Number of \"Mole fraction metadata\" entries: 2707\n"
     ]
    }
   ],
   "source": [
    "home = expanduser(\"~\")\n",
    "desired_components = ['carbon dioxide', 'n-dodecane']\n",
    "df = th.pandas_dataframe()\n",
    "mem = Memory(location=home+\"/.thermoml/\")\n",
    "\n",
    "@mem.cache\n",
    "def resolve_cached(x, rtype):\n",
    "   return cirpy.resolve(x, rtype)\n",
    "    \n",
    "# experiments=['Mole fraction']\n",
    "# ind_list = [df[exp].dropna().index for exp in experiments]\n",
    "# ind = reduce(lambda x, y: x.union(y), ind_list)\n",
    "\n",
    "\n",
    "name_to_formula = pd.read_parquet(\"~/.thermoml/compound_name_to_formula.pq\").dropna()\n",
    "# ind_list\n",
    "# ind\n",
    "# name_to_formula\n",
    "\n",
    "def feature_occurency(df, feature):\n",
    "    dt = list(df.columns)\n",
    "    col_list = [colname for colname in dt if feature in colname]\n",
    "    print(f'Dataframe size: {len(df)}')\n",
    "    for substring in col_list:\n",
    "        print(f'Number of \"{substring}\" entries: {len(df)-df[substring].isnull().sum()}')\n",
    "        \n",
    "feature_occurency(df, 'Mole fraction')"
   ]
  },
  {
   "cell_type": "code",
   "execution_count": 4,
   "id": "e8798009-7275-4187-a0f2-aecf0100a5a8",
   "metadata": {},
   "outputs": [
    {
     "name": "stdout",
     "output_type": "stream",
     "text": [
      "382763\n",
      "0\n",
      "243\n",
      "243\n"
     ]
    }
   ],
   "source": [
    "desired_components = ['InChI=1S/CO2/c2-1-3', 'InChI=1S/C10H22/c1-3-5-7-9-10-8-6-4-2/h3-10H2,1-2H3']\n",
    "# filtered = df[df['components'].str.contains('carbon dioxide')]\n",
    "# print(len(filtered), filtered['Mole fraction'].isnull().sum())\n",
    "\n",
    "# filtered = filtered[['components'].str.contains('carbon dioxide')]\n",
    "\n",
    "df['n_components'] = df.components.apply(\n",
    "    lambda x: len(x.split('__'))\n",
    ")\n",
    "# df_binary = df[df.n_components == 2]\n",
    "df_binary = df.copy()\n",
    "print(len(df_binary))\n",
    "\n",
    "df_my_1 = df_binary[df_binary.component_1_inchi == 'InChI=1S/CO2/c2-1-3']\n",
    "df_my_1 = df_my_1[df_my_1.component_2_inchi == 'InChI=1S/C10H22/c1-3-5-7-9-10-8-6-4-2/h3-10H2,1-2H3']\n",
    "df_my_2 = df_binary[df_binary.component_2_inchi == 'InChI=1S/CO2/c2-1-3']\n",
    "df_my_2 = df_my_2[df_my_2.component_1_inchi == 'InChI=1S/C10H22/c1-3-5-7-9-10-8-6-4-2/h3-10H2,1-2H3']\n",
    "# df_mycomponents = df_binary[df_binary.component_2_inchi == 'InChI=1S/CO2/c2-1-3']\n",
    "# df_mycomponents = df_mycomponents[df_mycomponents.component_1_inchi == 'InChI=1S/C10H22/c1-3-5-7-9-10-8-6-4-2/h3-10H2,1-2H3']\n",
    "print(len(df_my_1))\n",
    "print(len(df_my_2))\n",
    "df_merged = pd.concat([df_my_1, df_my_2])\n",
    "print(len(df_merged))\n",
    "# df_mycomponents = df_mycomponents[df_mycomponents.component_1_inchi == 'InChI=1S/C10H22/c1-3-5-7-9-10-8-6-4-2/h3-10H2,1-2H3']"
   ]
  },
  {
   "cell_type": "code",
   "execution_count": 11,
   "id": "d0af7068-65d2-4203-8be7-70b51636d652",
   "metadata": {},
   "outputs": [
    {
     "name": "stdout",
     "output_type": "stream",
     "text": [
      "Dataframe size: 243\n",
      "Number of \"Mole fraction\" entries: 243\n",
      "Number of \"Mole fraction_std\" entries: 0\n",
      "Number of \"Solvent: Mole fraction\" entries: 54\n",
      "Number of \"Mole fraction Variable metadata\" entries: 211\n",
      "Number of \"Mole fraction metadata\" entries: 2\n",
      "Dataframe size: 243\n",
      "Number of \"Pressure, kPa\" entries: 145\n",
      "Dataframe size: 243\n",
      "Number of \"Temperature, K\" entries: 242\n"
     ]
    }
   ],
   "source": [
    "feature_occurency(df_merged, 'Mole fraction')\n",
    "feature_occurency(df_merged, 'Pressure')\n",
    "feature_occurency(df_merged, 'Temperature')"
   ]
  },
  {
   "cell_type": "code",
   "execution_count": 12,
   "id": "afd3c30f-2658-4d33-beb2-e4754b4bd889",
   "metadata": {},
   "outputs": [
    {
     "name": "stdout",
     "output_type": "stream",
     "text": [
      "145\n"
     ]
    }
   ],
   "source": [
    "def filter_dataframe(df: pd.DataFrame, *keywords: str) -> pd.DataFrame:\n",
    "    # Create a copy of the dataframe to avoid modifying the original one\n",
    "    df_filtered = df.copy()\n",
    "    \n",
    "    # Iterate over each keyword\n",
    "    for keyword in keywords:\n",
    "        # Check if the keyword is a column in the dataframe\n",
    "        if keyword in df.columns:\n",
    "            # Filter rows where the column value is not None\n",
    "            df_filtered = df_filtered[df_filtered[keyword].notna()]\n",
    "    \n",
    "    return df_filtered\n",
    "\n",
    "main_features = [\"Mole fraction\", \"Pressure, kPa\", \"Temperature, K\"]\n",
    "df_filtered = filter_dataframe(df_merged, *main_features)\n",
    "print(len(df_filtered))"
   ]
  },
  {
   "cell_type": "code",
   "execution_count": 13,
   "id": "df1fa982-eac1-4025-9e0a-9abd34f6a414",
   "metadata": {},
   "outputs": [
    {
     "name": "stdout",
     "output_type": "stream",
     "text": [
      "Number of different \"Mole fraction\": 32\n",
      "Number of different \"Pressure, kPa\": 36\n",
      "Number of different \"Temperature, K\": 1\n",
      "Number of different \"filename\": 1\n"
     ]
    }
   ],
   "source": [
    "# print(*list(df_filtered.columns), sep=\"\\n\")\n",
    "# print(df_filtered.filename.nunique())\n",
    "for feature in main_features + ['filename']:\n",
    "    print(f'Number of different \"{feature}\": {df_filtered[feature].nunique()}')"
   ]
  },
  {
   "cell_type": "code",
   "execution_count": 14,
   "id": "d41efb7e-c511-40d9-8aab-00a00e934062",
   "metadata": {},
   "outputs": [
    {
     "name": "stdout",
     "output_type": "stream",
     "text": [
      "./mixture_data/j.fluid.2012.09.037.xml\n",
      "373.2\n",
      "decane__carbon dioxide__tetradecane\n"
     ]
    }
   ],
   "source": [
    "print(df_filtered['filename'].iloc[-1])\n",
    "print(df_filtered['Temperature, K'].iloc[-1])\n",
    "for entry in df_filtered.iloc:\n",
    "    if entry.n_components == 3:\n",
    "        print(entry.components)\n",
    "        # for some in entry:\n",
    "        #     print(some)\n",
    "        break\n"
   ]
  },
  {
   "cell_type": "code",
   "execution_count": 15,
   "id": "4d135ae2-9926-4682-a33c-3f53f7459fa0",
   "metadata": {},
   "outputs": [
    {
     "data": {
      "image/png": "[encoded data removed]",
      "text/plain": [
       "<Figure size 640x480 with 1 Axes>"
      ]
     },
     "metadata": {},
     "output_type": "display_data"
    }
   ],
   "source": [
    "import matplotlib.pyplot as plt\n",
    "\n",
    "f_comp = 'Mole fraction'\n",
    "s_comp = 'Pressure, kPa'\n",
    "# Assuming df is your DataFrame and 'column1' and 'column2' are the names of your columns\n",
    "plt.scatter(df_filtered[f_comp], df_filtered[s_comp])\n",
    "plt.xlabel(f_comp)\n",
    "plt.ylabel(s_comp)\n",
    "plt.title(f'Scatter plot of {f_comp} vs {s_comp}')\n",
    "\n",
    "plt.show()"
   ]
  },
  {
   "cell_type": "code",
   "execution_count": null,
   "id": "a2d7d180-3b5c-4608-9c43-98fae68646c6",
   "metadata": {},
   "outputs": [],
   "source": []
  }
 ],
 "metadata": {
  "kernelspec": {
   "display_name": "Python 3 (ipykernel)",
   "language": "python",
   "name": "python3"
  },
  "language_info": {
   "codemirror_mode": {
    "name": "ipython",
    "version": 3
   },
   "file_extension": ".py",
   "mimetype": "text/x-python",
   "name": "python",
   "nbconvert_exporter": "python",
   "pygments_lexer": "ipython3",
   "version": "3.9.18"
  }
 },
 "nbformat": 4,
 "nbformat_minor": 5
}
